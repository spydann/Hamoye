{
 "cells": [
  {
   "cell_type": "code",
   "execution_count": 1,
   "id": "1b5fae63",
   "metadata": {},
   "outputs": [],
   "source": [
    "import numpy as np \n",
    "import pandas as pd \n",
    "import matplotlib.pyplot as plt\n",
    "import statsmodels.api as sm\n",
    "import seaborn as sns \n",
    "\n",
    "sns.set()"
   ]
  },
  {
   "cell_type": "code",
   "execution_count": 2,
   "id": "abbacabf",
   "metadata": {},
   "outputs": [],
   "source": [
    "#lets the data from a .csv in the same folder\n",
    "data = pd.read_csv('FoodBalanceSheets_E_Africa_NOFLAG.csv',encoding = 'latin-1')"
   ]
  },
  {
   "cell_type": "code",
   "execution_count": 3,
   "id": "29406e76",
   "metadata": {},
   "outputs": [
    {
     "data": {
      "text/html": [
       "<div>\n",
       "<style scoped>\n",
       "    .dataframe tbody tr th:only-of-type {\n",
       "        vertical-align: middle;\n",
       "    }\n",
       "\n",
       "    .dataframe tbody tr th {\n",
       "        vertical-align: top;\n",
       "    }\n",
       "\n",
       "    .dataframe thead th {\n",
       "        text-align: right;\n",
       "    }\n",
       "</style>\n",
       "<table border=\"1\" class=\"dataframe\">\n",
       "  <thead>\n",
       "    <tr style=\"text-align: right;\">\n",
       "      <th></th>\n",
       "      <th>Area Code</th>\n",
       "      <th>Area</th>\n",
       "      <th>Item Code</th>\n",
       "      <th>Item</th>\n",
       "      <th>Element Code</th>\n",
       "      <th>Element</th>\n",
       "      <th>Unit</th>\n",
       "      <th>Y2014</th>\n",
       "      <th>Y2015</th>\n",
       "      <th>Y2016</th>\n",
       "      <th>Y2017</th>\n",
       "      <th>Y2018</th>\n",
       "    </tr>\n",
       "  </thead>\n",
       "  <tbody>\n",
       "    <tr>\n",
       "      <th>0</th>\n",
       "      <td>4</td>\n",
       "      <td>Algeria</td>\n",
       "      <td>2501</td>\n",
       "      <td>Population</td>\n",
       "      <td>511</td>\n",
       "      <td>Total Population - Both sexes</td>\n",
       "      <td>1000 persons</td>\n",
       "      <td>38924.00</td>\n",
       "      <td>39728.00</td>\n",
       "      <td>40551.00</td>\n",
       "      <td>41389.00</td>\n",
       "      <td>42228.00</td>\n",
       "    </tr>\n",
       "    <tr>\n",
       "      <th>1</th>\n",
       "      <td>4</td>\n",
       "      <td>Algeria</td>\n",
       "      <td>2501</td>\n",
       "      <td>Population</td>\n",
       "      <td>5301</td>\n",
       "      <td>Domestic supply quantity</td>\n",
       "      <td>1000 tonnes</td>\n",
       "      <td>0.00</td>\n",
       "      <td>0.00</td>\n",
       "      <td>0.00</td>\n",
       "      <td>0.00</td>\n",
       "      <td>0.00</td>\n",
       "    </tr>\n",
       "    <tr>\n",
       "      <th>2</th>\n",
       "      <td>4</td>\n",
       "      <td>Algeria</td>\n",
       "      <td>2901</td>\n",
       "      <td>Grand Total</td>\n",
       "      <td>664</td>\n",
       "      <td>Food supply (kcal/capita/day)</td>\n",
       "      <td>kcal/capita/day</td>\n",
       "      <td>3377.00</td>\n",
       "      <td>3379.00</td>\n",
       "      <td>3372.00</td>\n",
       "      <td>3341.00</td>\n",
       "      <td>3322.00</td>\n",
       "    </tr>\n",
       "    <tr>\n",
       "      <th>3</th>\n",
       "      <td>4</td>\n",
       "      <td>Algeria</td>\n",
       "      <td>2901</td>\n",
       "      <td>Grand Total</td>\n",
       "      <td>674</td>\n",
       "      <td>Protein supply quantity (g/capita/day)</td>\n",
       "      <td>g/capita/day</td>\n",
       "      <td>94.90</td>\n",
       "      <td>94.35</td>\n",
       "      <td>94.72</td>\n",
       "      <td>92.82</td>\n",
       "      <td>91.83</td>\n",
       "    </tr>\n",
       "    <tr>\n",
       "      <th>4</th>\n",
       "      <td>4</td>\n",
       "      <td>Algeria</td>\n",
       "      <td>2901</td>\n",
       "      <td>Grand Total</td>\n",
       "      <td>684</td>\n",
       "      <td>Fat supply quantity (g/capita/day)</td>\n",
       "      <td>g/capita/day</td>\n",
       "      <td>80.06</td>\n",
       "      <td>79.36</td>\n",
       "      <td>77.40</td>\n",
       "      <td>80.19</td>\n",
       "      <td>77.28</td>\n",
       "    </tr>\n",
       "    <tr>\n",
       "      <th>5</th>\n",
       "      <td>4</td>\n",
       "      <td>Algeria</td>\n",
       "      <td>2903</td>\n",
       "      <td>Vegetal Products</td>\n",
       "      <td>664</td>\n",
       "      <td>Food supply (kcal/capita/day)</td>\n",
       "      <td>kcal/capita/day</td>\n",
       "      <td>2932.00</td>\n",
       "      <td>2958.00</td>\n",
       "      <td>2941.00</td>\n",
       "      <td>2921.00</td>\n",
       "      <td>2932.00</td>\n",
       "    </tr>\n",
       "    <tr>\n",
       "      <th>6</th>\n",
       "      <td>4</td>\n",
       "      <td>Algeria</td>\n",
       "      <td>2903</td>\n",
       "      <td>Vegetal Products</td>\n",
       "      <td>674</td>\n",
       "      <td>Protein supply quantity (g/capita/day)</td>\n",
       "      <td>g/capita/day</td>\n",
       "      <td>67.14</td>\n",
       "      <td>67.38</td>\n",
       "      <td>67.37</td>\n",
       "      <td>66.11</td>\n",
       "      <td>67.10</td>\n",
       "    </tr>\n",
       "    <tr>\n",
       "      <th>7</th>\n",
       "      <td>4</td>\n",
       "      <td>Algeria</td>\n",
       "      <td>2903</td>\n",
       "      <td>Vegetal Products</td>\n",
       "      <td>684</td>\n",
       "      <td>Fat supply quantity (g/capita/day)</td>\n",
       "      <td>g/capita/day</td>\n",
       "      <td>53.84</td>\n",
       "      <td>54.72</td>\n",
       "      <td>52.04</td>\n",
       "      <td>55.59</td>\n",
       "      <td>54.57</td>\n",
       "    </tr>\n",
       "    <tr>\n",
       "      <th>8</th>\n",
       "      <td>4</td>\n",
       "      <td>Algeria</td>\n",
       "      <td>2941</td>\n",
       "      <td>Animal Products</td>\n",
       "      <td>664</td>\n",
       "      <td>Food supply (kcal/capita/day)</td>\n",
       "      <td>kcal/capita/day</td>\n",
       "      <td>444.00</td>\n",
       "      <td>421.00</td>\n",
       "      <td>431.00</td>\n",
       "      <td>421.00</td>\n",
       "      <td>390.00</td>\n",
       "    </tr>\n",
       "    <tr>\n",
       "      <th>9</th>\n",
       "      <td>4</td>\n",
       "      <td>Algeria</td>\n",
       "      <td>2941</td>\n",
       "      <td>Animal Products</td>\n",
       "      <td>674</td>\n",
       "      <td>Protein supply quantity (g/capita/day)</td>\n",
       "      <td>g/capita/day</td>\n",
       "      <td>27.76</td>\n",
       "      <td>26.97</td>\n",
       "      <td>27.35</td>\n",
       "      <td>26.71</td>\n",
       "      <td>24.73</td>\n",
       "    </tr>\n",
       "  </tbody>\n",
       "</table>\n",
       "</div>"
      ],
      "text/plain": [
       "   Area Code     Area  Item Code              Item  Element Code  \\\n",
       "0          4  Algeria       2501        Population           511   \n",
       "1          4  Algeria       2501        Population          5301   \n",
       "2          4  Algeria       2901       Grand Total           664   \n",
       "3          4  Algeria       2901       Grand Total           674   \n",
       "4          4  Algeria       2901       Grand Total           684   \n",
       "5          4  Algeria       2903  Vegetal Products           664   \n",
       "6          4  Algeria       2903  Vegetal Products           674   \n",
       "7          4  Algeria       2903  Vegetal Products           684   \n",
       "8          4  Algeria       2941   Animal Products           664   \n",
       "9          4  Algeria       2941   Animal Products           674   \n",
       "\n",
       "                                  Element             Unit     Y2014  \\\n",
       "0           Total Population - Both sexes     1000 persons  38924.00   \n",
       "1                Domestic supply quantity      1000 tonnes      0.00   \n",
       "2           Food supply (kcal/capita/day)  kcal/capita/day   3377.00   \n",
       "3  Protein supply quantity (g/capita/day)     g/capita/day     94.90   \n",
       "4      Fat supply quantity (g/capita/day)     g/capita/day     80.06   \n",
       "5           Food supply (kcal/capita/day)  kcal/capita/day   2932.00   \n",
       "6  Protein supply quantity (g/capita/day)     g/capita/day     67.14   \n",
       "7      Fat supply quantity (g/capita/day)     g/capita/day     53.84   \n",
       "8           Food supply (kcal/capita/day)  kcal/capita/day    444.00   \n",
       "9  Protein supply quantity (g/capita/day)     g/capita/day     27.76   \n",
       "\n",
       "      Y2015     Y2016     Y2017     Y2018  \n",
       "0  39728.00  40551.00  41389.00  42228.00  \n",
       "1      0.00      0.00      0.00      0.00  \n",
       "2   3379.00   3372.00   3341.00   3322.00  \n",
       "3     94.35     94.72     92.82     91.83  \n",
       "4     79.36     77.40     80.19     77.28  \n",
       "5   2958.00   2941.00   2921.00   2932.00  \n",
       "6     67.38     67.37     66.11     67.10  \n",
       "7     54.72     52.04     55.59     54.57  \n",
       "8    421.00    431.00    421.00    390.00  \n",
       "9     26.97     27.35     26.71     24.73  "
      ]
     },
     "execution_count": 3,
     "metadata": {},
     "output_type": "execute_result"
    }
   ],
   "source": [
    "data.head(10)"
   ]
  },
  {
   "cell_type": "code",
   "execution_count": 4,
   "id": "a5ccc8c2",
   "metadata": {},
   "outputs": [
    {
     "data": {
      "text/plain": [
       "(60943, 12)"
      ]
     },
     "execution_count": 4,
     "metadata": {},
     "output_type": "execute_result"
    }
   ],
   "source": [
    "data.shape"
   ]
  },
  {
   "cell_type": "code",
   "execution_count": 5,
   "id": "f9377855",
   "metadata": {
    "scrolled": true
   },
   "outputs": [
    {
     "data": {
      "text/html": [
       "<div>\n",
       "<style scoped>\n",
       "    .dataframe tbody tr th:only-of-type {\n",
       "        vertical-align: middle;\n",
       "    }\n",
       "\n",
       "    .dataframe tbody tr th {\n",
       "        vertical-align: top;\n",
       "    }\n",
       "\n",
       "    .dataframe thead th {\n",
       "        text-align: right;\n",
       "    }\n",
       "</style>\n",
       "<table border=\"1\" class=\"dataframe\">\n",
       "  <thead>\n",
       "    <tr style=\"text-align: right;\">\n",
       "      <th></th>\n",
       "      <th>Area Code</th>\n",
       "      <th>Area</th>\n",
       "      <th>Item Code</th>\n",
       "      <th>Item</th>\n",
       "      <th>Element Code</th>\n",
       "      <th>Element</th>\n",
       "      <th>Unit</th>\n",
       "      <th>Y2014</th>\n",
       "      <th>Y2015</th>\n",
       "      <th>Y2016</th>\n",
       "      <th>Y2017</th>\n",
       "      <th>Y2018</th>\n",
       "    </tr>\n",
       "  </thead>\n",
       "  <tbody>\n",
       "    <tr>\n",
       "      <th>count</th>\n",
       "      <td>60943.000000</td>\n",
       "      <td>60943</td>\n",
       "      <td>60943.000000</td>\n",
       "      <td>60943</td>\n",
       "      <td>60943.000000</td>\n",
       "      <td>60943</td>\n",
       "      <td>60943</td>\n",
       "      <td>59354.000000</td>\n",
       "      <td>59395.000000</td>\n",
       "      <td>59408.000000</td>\n",
       "      <td>59437.000000</td>\n",
       "      <td>59507.000000</td>\n",
       "    </tr>\n",
       "    <tr>\n",
       "      <th>unique</th>\n",
       "      <td>NaN</td>\n",
       "      <td>49</td>\n",
       "      <td>NaN</td>\n",
       "      <td>119</td>\n",
       "      <td>NaN</td>\n",
       "      <td>18</td>\n",
       "      <td>5</td>\n",
       "      <td>NaN</td>\n",
       "      <td>NaN</td>\n",
       "      <td>NaN</td>\n",
       "      <td>NaN</td>\n",
       "      <td>NaN</td>\n",
       "    </tr>\n",
       "    <tr>\n",
       "      <th>top</th>\n",
       "      <td>NaN</td>\n",
       "      <td>Kenya</td>\n",
       "      <td>NaN</td>\n",
       "      <td>Milk - Excluding Butter</td>\n",
       "      <td>NaN</td>\n",
       "      <td>Domestic supply quantity</td>\n",
       "      <td>1000 tonnes</td>\n",
       "      <td>NaN</td>\n",
       "      <td>NaN</td>\n",
       "      <td>NaN</td>\n",
       "      <td>NaN</td>\n",
       "      <td>NaN</td>\n",
       "    </tr>\n",
       "    <tr>\n",
       "      <th>freq</th>\n",
       "      <td>NaN</td>\n",
       "      <td>1560</td>\n",
       "      <td>NaN</td>\n",
       "      <td>1262</td>\n",
       "      <td>NaN</td>\n",
       "      <td>5295</td>\n",
       "      <td>40933</td>\n",
       "      <td>NaN</td>\n",
       "      <td>NaN</td>\n",
       "      <td>NaN</td>\n",
       "      <td>NaN</td>\n",
       "      <td>NaN</td>\n",
       "    </tr>\n",
       "    <tr>\n",
       "      <th>mean</th>\n",
       "      <td>134.265576</td>\n",
       "      <td>NaN</td>\n",
       "      <td>2687.176706</td>\n",
       "      <td>NaN</td>\n",
       "      <td>3814.856456</td>\n",
       "      <td>NaN</td>\n",
       "      <td>NaN</td>\n",
       "      <td>134.196282</td>\n",
       "      <td>135.235966</td>\n",
       "      <td>136.555222</td>\n",
       "      <td>140.917765</td>\n",
       "      <td>143.758381</td>\n",
       "    </tr>\n",
       "    <tr>\n",
       "      <th>std</th>\n",
       "      <td>72.605709</td>\n",
       "      <td>NaN</td>\n",
       "      <td>146.055739</td>\n",
       "      <td>NaN</td>\n",
       "      <td>2212.007033</td>\n",
       "      <td>NaN</td>\n",
       "      <td>NaN</td>\n",
       "      <td>1567.663696</td>\n",
       "      <td>1603.403984</td>\n",
       "      <td>1640.007194</td>\n",
       "      <td>1671.862359</td>\n",
       "      <td>1710.782658</td>\n",
       "    </tr>\n",
       "    <tr>\n",
       "      <th>min</th>\n",
       "      <td>4.000000</td>\n",
       "      <td>NaN</td>\n",
       "      <td>2501.000000</td>\n",
       "      <td>NaN</td>\n",
       "      <td>511.000000</td>\n",
       "      <td>NaN</td>\n",
       "      <td>NaN</td>\n",
       "      <td>-1796.000000</td>\n",
       "      <td>-3161.000000</td>\n",
       "      <td>-3225.000000</td>\n",
       "      <td>-1582.000000</td>\n",
       "      <td>-3396.000000</td>\n",
       "    </tr>\n",
       "    <tr>\n",
       "      <th>25%</th>\n",
       "      <td>74.000000</td>\n",
       "      <td>NaN</td>\n",
       "      <td>2562.000000</td>\n",
       "      <td>NaN</td>\n",
       "      <td>684.000000</td>\n",
       "      <td>NaN</td>\n",
       "      <td>NaN</td>\n",
       "      <td>0.000000</td>\n",
       "      <td>0.000000</td>\n",
       "      <td>0.000000</td>\n",
       "      <td>0.000000</td>\n",
       "      <td>0.000000</td>\n",
       "    </tr>\n",
       "    <tr>\n",
       "      <th>50%</th>\n",
       "      <td>136.000000</td>\n",
       "      <td>NaN</td>\n",
       "      <td>2630.000000</td>\n",
       "      <td>NaN</td>\n",
       "      <td>5142.000000</td>\n",
       "      <td>NaN</td>\n",
       "      <td>NaN</td>\n",
       "      <td>0.090000</td>\n",
       "      <td>0.080000</td>\n",
       "      <td>0.080000</td>\n",
       "      <td>0.100000</td>\n",
       "      <td>0.070000</td>\n",
       "    </tr>\n",
       "    <tr>\n",
       "      <th>75%</th>\n",
       "      <td>195.000000</td>\n",
       "      <td>NaN</td>\n",
       "      <td>2775.000000</td>\n",
       "      <td>NaN</td>\n",
       "      <td>5511.000000</td>\n",
       "      <td>NaN</td>\n",
       "      <td>NaN</td>\n",
       "      <td>8.340000</td>\n",
       "      <td>8.460000</td>\n",
       "      <td>8.430000</td>\n",
       "      <td>9.000000</td>\n",
       "      <td>9.000000</td>\n",
       "    </tr>\n",
       "    <tr>\n",
       "      <th>max</th>\n",
       "      <td>276.000000</td>\n",
       "      <td>NaN</td>\n",
       "      <td>2961.000000</td>\n",
       "      <td>NaN</td>\n",
       "      <td>5911.000000</td>\n",
       "      <td>NaN</td>\n",
       "      <td>NaN</td>\n",
       "      <td>176405.000000</td>\n",
       "      <td>181137.000000</td>\n",
       "      <td>185960.000000</td>\n",
       "      <td>190873.000000</td>\n",
       "      <td>195875.000000</td>\n",
       "    </tr>\n",
       "  </tbody>\n",
       "</table>\n",
       "</div>"
      ],
      "text/plain": [
       "           Area Code   Area     Item Code                     Item  \\\n",
       "count   60943.000000  60943  60943.000000                    60943   \n",
       "unique           NaN     49           NaN                      119   \n",
       "top              NaN  Kenya           NaN  Milk - Excluding Butter   \n",
       "freq             NaN   1560           NaN                     1262   \n",
       "mean      134.265576    NaN   2687.176706                      NaN   \n",
       "std        72.605709    NaN    146.055739                      NaN   \n",
       "min         4.000000    NaN   2501.000000                      NaN   \n",
       "25%        74.000000    NaN   2562.000000                      NaN   \n",
       "50%       136.000000    NaN   2630.000000                      NaN   \n",
       "75%       195.000000    NaN   2775.000000                      NaN   \n",
       "max       276.000000    NaN   2961.000000                      NaN   \n",
       "\n",
       "        Element Code                   Element         Unit          Y2014  \\\n",
       "count   60943.000000                     60943        60943   59354.000000   \n",
       "unique           NaN                        18            5            NaN   \n",
       "top              NaN  Domestic supply quantity  1000 tonnes            NaN   \n",
       "freq             NaN                      5295        40933            NaN   \n",
       "mean     3814.856456                       NaN          NaN     134.196282   \n",
       "std      2212.007033                       NaN          NaN    1567.663696   \n",
       "min       511.000000                       NaN          NaN   -1796.000000   \n",
       "25%       684.000000                       NaN          NaN       0.000000   \n",
       "50%      5142.000000                       NaN          NaN       0.090000   \n",
       "75%      5511.000000                       NaN          NaN       8.340000   \n",
       "max      5911.000000                       NaN          NaN  176405.000000   \n",
       "\n",
       "                Y2015          Y2016          Y2017          Y2018  \n",
       "count    59395.000000   59408.000000   59437.000000   59507.000000  \n",
       "unique            NaN            NaN            NaN            NaN  \n",
       "top               NaN            NaN            NaN            NaN  \n",
       "freq              NaN            NaN            NaN            NaN  \n",
       "mean       135.235966     136.555222     140.917765     143.758381  \n",
       "std       1603.403984    1640.007194    1671.862359    1710.782658  \n",
       "min      -3161.000000   -3225.000000   -1582.000000   -3396.000000  \n",
       "25%          0.000000       0.000000       0.000000       0.000000  \n",
       "50%          0.080000       0.080000       0.100000       0.070000  \n",
       "75%          8.460000       8.430000       9.000000       9.000000  \n",
       "max     181137.000000  185960.000000  190873.000000  195875.000000  "
      ]
     },
     "execution_count": 5,
     "metadata": {},
     "output_type": "execute_result"
    }
   ],
   "source": [
    "data.describe(include='all')"
   ]
  },
  {
   "cell_type": "markdown",
   "id": "ecb8f23f",
   "metadata": {},
   "source": [
    "# Correlation between the all the years and the element code"
   ]
  },
  {
   "cell_type": "code",
   "execution_count": 6,
   "id": "5c8ebe04",
   "metadata": {},
   "outputs": [
    {
     "data": {
      "text/plain": [
       "0.02445681949522173"
      ]
     },
     "execution_count": 6,
     "metadata": {},
     "output_type": "execute_result"
    }
   ],
   "source": [
    "data['Element Code'].corr(data['Y2014'])"
   ]
  },
  {
   "cell_type": "code",
   "execution_count": 7,
   "id": "4fa6dd3f",
   "metadata": {},
   "outputs": [
    {
     "data": {
      "text/plain": [
       "0.023889199301639918"
      ]
     },
     "execution_count": 7,
     "metadata": {},
     "output_type": "execute_result"
    }
   ],
   "source": [
    "data['Element Code'].corr(data['Y2015'])"
   ]
  },
  {
   "cell_type": "code",
   "execution_count": 8,
   "id": "61187d7b",
   "metadata": {},
   "outputs": [
    {
     "data": {
      "text/plain": [
       "0.023443997584961344"
      ]
     },
     "execution_count": 8,
     "metadata": {},
     "output_type": "execute_result"
    }
   ],
   "source": [
    "data['Element Code'].corr(data['Y2016'])"
   ]
  },
  {
   "cell_type": "code",
   "execution_count": 9,
   "id": "3865a9f9",
   "metadata": {},
   "outputs": [
    {
     "data": {
      "text/plain": [
       "0.024254007760045798"
      ]
     },
     "execution_count": 9,
     "metadata": {},
     "output_type": "execute_result"
    }
   ],
   "source": [
    "data['Element Code'].corr(data['Y2017'])"
   ]
  },
  {
   "cell_type": "code",
   "execution_count": 10,
   "id": "b568da9a",
   "metadata": {},
   "outputs": [
    {
     "data": {
      "text/html": [
       "<div>\n",
       "<style scoped>\n",
       "    .dataframe tbody tr th:only-of-type {\n",
       "        vertical-align: middle;\n",
       "    }\n",
       "\n",
       "    .dataframe tbody tr th {\n",
       "        vertical-align: top;\n",
       "    }\n",
       "\n",
       "    .dataframe thead th {\n",
       "        text-align: right;\n",
       "    }\n",
       "</style>\n",
       "<table border=\"1\" class=\"dataframe\">\n",
       "  <thead>\n",
       "    <tr style=\"text-align: right;\">\n",
       "      <th></th>\n",
       "      <th>Correlation with Element code</th>\n",
       "    </tr>\n",
       "  </thead>\n",
       "  <tbody>\n",
       "    <tr>\n",
       "      <th>Y2016</th>\n",
       "      <td>0.023444</td>\n",
       "    </tr>\n",
       "    <tr>\n",
       "      <th>Y2015</th>\n",
       "      <td>0.023889</td>\n",
       "    </tr>\n",
       "    <tr>\n",
       "      <th>Y2017</th>\n",
       "      <td>0.024254</td>\n",
       "    </tr>\n",
       "    <tr>\n",
       "      <th>Y2014</th>\n",
       "      <td>0.024457</td>\n",
       "    </tr>\n",
       "  </tbody>\n",
       "</table>\n",
       "</div>"
      ],
      "text/plain": [
       "       Correlation with Element code\n",
       "Y2016                       0.023444\n",
       "Y2015                       0.023889\n",
       "Y2017                       0.024254\n",
       "Y2014                       0.024457"
      ]
     },
     "execution_count": 10,
     "metadata": {},
     "output_type": "execute_result"
    }
   ],
   "source": [
    "#lets input the values into a dataframe & sort the values\n",
    "year_element_corr = pd.DataFrame(\n",
    "     data={'Correlation with Element code':[data['Element Code'].corr(data['Y2014']),\n",
    "           data['Element Code'].corr(data['Y2015']),\n",
    "           data['Element Code'].corr(data['Y2016']),\n",
    "           data['Element Code'].corr(data['Y2017'])]}, \n",
    "    index = ['Y2014','Y2015','Y2016','Y2017'])\n",
    "year_element_corr.sort_values('Correlation with Element code')"
   ]
  },
  {
   "cell_type": "code",
   "execution_count": 11,
   "id": "9ac115aa",
   "metadata": {},
   "outputs": [
    {
     "data": {
      "text/plain": [
       "Element                   Area                 \n",
       "Domestic supply quantity  Algeria                  85972.86\n",
       "                          Angola                   55482.91\n",
       "                          Benin                    27661.67\n",
       "                          Botswana                  2916.14\n",
       "                          Burkina Faso             23658.17\n",
       "                                                     ...   \n",
       "Tourist consumption       Cabo Verde                   5.00\n",
       "                          Egypt                      286.00\n",
       "                          Kenya                       17.00\n",
       "                          Mauritius                   29.00\n",
       "                          Sao Tome and Principe       12.00\n",
       "Name: Y2015, Length: 803, dtype: float64"
      ]
     },
     "execution_count": 11,
     "metadata": {},
     "output_type": "execute_result"
    }
   ],
   "source": [
    "#Lets check the total protein supply in Madagascar in 2015\n",
    "grouped_data = data.groupby(['Element','Area'])['Y2015'].sum()\n",
    "grouped_data"
   ]
  },
  {
   "cell_type": "code",
   "execution_count": null,
   "id": "aa88fea0",
   "metadata": {},
   "outputs": [],
   "source": []
  },
  {
   "cell_type": "code",
   "execution_count": null,
   "id": "fabe9620",
   "metadata": {},
   "outputs": [],
   "source": []
  },
  {
   "cell_type": "code",
   "execution_count": 12,
   "id": "0392876c",
   "metadata": {},
   "outputs": [
    {
     "data": {
      "text/plain": [
       "1589"
      ]
     },
     "execution_count": 12,
     "metadata": {},
     "output_type": "execute_result"
    }
   ],
   "source": [
    "#Lets check for null values in the feature 'Y2014' \n",
    "data['Y2014'].isnull().sum()"
   ]
  },
  {
   "cell_type": "code",
   "execution_count": 13,
   "id": "d4dacb4e",
   "metadata": {},
   "outputs": [
    {
     "data": {
      "text/plain": [
       "49"
      ]
     },
     "execution_count": 13,
     "metadata": {},
     "output_type": "execute_result"
    }
   ],
   "source": [
    "#lets check for the unique values in the feature 'Area'\n",
    "len(data['Area'].unique())"
   ]
  },
  {
   "cell_type": "code",
   "execution_count": 14,
   "id": "43d1d0ee",
   "metadata": {},
   "outputs": [
    {
     "data": {
      "text/html": [
       "<div>\n",
       "<style scoped>\n",
       "    .dataframe tbody tr th:only-of-type {\n",
       "        vertical-align: middle;\n",
       "    }\n",
       "\n",
       "    .dataframe tbody tr th {\n",
       "        vertical-align: top;\n",
       "    }\n",
       "\n",
       "    .dataframe thead th {\n",
       "        text-align: right;\n",
       "    }\n",
       "</style>\n",
       "<table border=\"1\" class=\"dataframe\">\n",
       "  <thead>\n",
       "    <tr style=\"text-align: right;\">\n",
       "      <th></th>\n",
       "      <th>Y2015</th>\n",
       "      <th>Y2018</th>\n",
       "    </tr>\n",
       "    <tr>\n",
       "      <th>Item</th>\n",
       "      <th></th>\n",
       "      <th></th>\n",
       "    </tr>\n",
       "  </thead>\n",
       "  <tbody>\n",
       "    <tr>\n",
       "      <th>Alcohol, Non-Food</th>\n",
       "      <td>2180.00</td>\n",
       "      <td>2293.00</td>\n",
       "    </tr>\n",
       "    <tr>\n",
       "      <th>Alcoholic Beverages</th>\n",
       "      <td>98783.72</td>\n",
       "      <td>97847.27</td>\n",
       "    </tr>\n",
       "    <tr>\n",
       "      <th>Animal Products</th>\n",
       "      <td>11811.73</td>\n",
       "      <td>11578.61</td>\n",
       "    </tr>\n",
       "    <tr>\n",
       "      <th>Animal fats</th>\n",
       "      <td>200675.72</td>\n",
       "      <td>269648.27</td>\n",
       "    </tr>\n",
       "    <tr>\n",
       "      <th>Apples and products</th>\n",
       "      <td>10559.15</td>\n",
       "      <td>9640.51</td>\n",
       "    </tr>\n",
       "    <tr>\n",
       "      <th>...</th>\n",
       "      <td>...</td>\n",
       "      <td>...</td>\n",
       "    </tr>\n",
       "    <tr>\n",
       "      <th>Vegetables, Other</th>\n",
       "      <td>158104.08</td>\n",
       "      <td>163987.21</td>\n",
       "    </tr>\n",
       "    <tr>\n",
       "      <th>Vegetal Products</th>\n",
       "      <td>107064.17</td>\n",
       "      <td>107775.39</td>\n",
       "    </tr>\n",
       "    <tr>\n",
       "      <th>Wheat and products</th>\n",
       "      <td>234710.51</td>\n",
       "      <td>242645.19</td>\n",
       "    </tr>\n",
       "    <tr>\n",
       "      <th>Wine</th>\n",
       "      <td>4251.81</td>\n",
       "      <td>4039.32</td>\n",
       "    </tr>\n",
       "    <tr>\n",
       "      <th>Yams</th>\n",
       "      <td>203151.78</td>\n",
       "      <td>221272.09</td>\n",
       "    </tr>\n",
       "  </tbody>\n",
       "</table>\n",
       "<p>119 rows × 2 columns</p>\n",
       "</div>"
      ],
      "text/plain": [
       "                         Y2015      Y2018\n",
       "Item                                     \n",
       "Alcohol, Non-Food      2180.00    2293.00\n",
       "Alcoholic Beverages   98783.72   97847.27\n",
       "Animal Products       11811.73   11578.61\n",
       "Animal fats          200675.72  269648.27\n",
       "Apples and products   10559.15    9640.51\n",
       "...                        ...        ...\n",
       "Vegetables, Other    158104.08  163987.21\n",
       "Vegetal Products     107064.17  107775.39\n",
       "Wheat and products   234710.51  242645.19\n",
       "Wine                   4251.81    4039.32\n",
       "Yams                 203151.78  221272.09\n",
       "\n",
       "[119 rows x 2 columns]"
      ]
     },
     "execution_count": 14,
     "metadata": {},
     "output_type": "execute_result"
    }
   ],
   "source": [
    "#Lets check for the total sum of items in the Y2015 & Y2018\n",
    "data.groupby('Item')[['Y2015','Y2018']].sum()"
   ]
  },
  {
   "cell_type": "code",
   "execution_count": 15,
   "id": "6fa95b6f",
   "metadata": {},
   "outputs": [
    {
     "data": {
      "text/plain": [
       "'e'"
      ]
     },
     "execution_count": 15,
     "metadata": {},
     "output_type": "execute_result"
    }
   ],
   "source": [
    "S =[['him','sell'],[90,28,43]]\n",
    "S[0][1][1]"
   ]
  },
  {
   "cell_type": "code",
   "execution_count": 16,
   "id": "580cf37a",
   "metadata": {},
   "outputs": [
    {
     "data": {
      "text/plain": [
       "Element\n",
       "Domestic supply quantity                  5244\n",
       "Export Quantity                           3660\n",
       "Fat supply quantity (g/capita/day)        4965\n",
       "Feed                                      1216\n",
       "Food                                      4896\n",
       "Food supply (kcal/capita/day)             4947\n",
       "Food supply quantity (kg/capita/yr)       4860\n",
       "Import Quantity                           4919\n",
       "Losses                                    2009\n",
       "Other uses (non-food)                     1662\n",
       "Processing                                1987\n",
       "Production                                3830\n",
       "Protein supply quantity (g/capita/day)    4963\n",
       "Residuals                                 4604\n",
       "Seed                                       762\n",
       "Stock Variation                           4230\n",
       "Total Population - Both sexes               45\n",
       "Tourist consumption                        555\n",
       "Name: Y2014, dtype: int64"
      ]
     },
     "execution_count": 16,
     "metadata": {},
     "output_type": "execute_result"
    }
   ],
   "source": [
    "#Lets group element with the feature 'Y2014' and count the values\n",
    "data.groupby('Element')['Y2014'].count()"
   ]
  },
  {
   "cell_type": "code",
   "execution_count": 17,
   "id": "66326cdd",
   "metadata": {},
   "outputs": [
    {
     "data": {
      "text/plain": [
       "Element\n",
       "Domestic supply quantity                  5245\n",
       "Export Quantity                           3704\n",
       "Fat supply quantity (g/capita/day)        4974\n",
       "Feed                                      1177\n",
       "Food                                      4901\n",
       "Food supply (kcal/capita/day)             4955\n",
       "Food supply quantity (kg/capita/yr)       4865\n",
       "Import Quantity                           4911\n",
       "Losses                                    2009\n",
       "Other uses (non-food)                     1667\n",
       "Processing                                1995\n",
       "Production                                3828\n",
       "Protein supply quantity (g/capita/day)    4971\n",
       "Residuals                                 4605\n",
       "Seed                                       759\n",
       "Stock Variation                           4229\n",
       "Total Population - Both sexes               45\n",
       "Tourist consumption                        555\n",
       "Name: Y2015, dtype: int64"
      ]
     },
     "execution_count": 17,
     "metadata": {},
     "output_type": "execute_result"
    }
   ],
   "source": [
    "#Lets group element with the feature 'Y2015' and count the values\n",
    "data['Y2015'].groupby(data['Element']).count()"
   ]
  },
  {
   "cell_type": "code",
   "execution_count": 18,
   "id": "68d20d23",
   "metadata": {},
   "outputs": [
    {
     "data": {
      "text/plain": [
       "Element\n",
       "Domestic supply quantity                  5250\n",
       "Export Quantity                           3653\n",
       "Fat supply quantity (g/capita/day)        4980\n",
       "Feed                                      1215\n",
       "Food                                      4910\n",
       "Food supply (kcal/capita/day)             4963\n",
       "Food supply quantity (kg/capita/yr)       4874\n",
       "Import Quantity                           4908\n",
       "Losses                                    2009\n",
       "Other uses (non-food)                     1634\n",
       "Processing                                1996\n",
       "Production                                3838\n",
       "Protein supply quantity (g/capita/day)    4978\n",
       "Residuals                                 4610\n",
       "Seed                                       759\n",
       "Stock Variation                           4231\n",
       "Total Population - Both sexes               45\n",
       "Tourist consumption                        555\n",
       "Name: Y2016, dtype: int64"
      ]
     },
     "execution_count": 18,
     "metadata": {},
     "output_type": "execute_result"
    }
   ],
   "source": [
    "#Lets group element with the feature 'Y2016' and count the values\n",
    "data['Y2016'].groupby(data['Element']).count()"
   ]
  },
  {
   "cell_type": "code",
   "execution_count": 19,
   "id": "42810402",
   "metadata": {},
   "outputs": [
    {
     "data": {
      "text/plain": [
       "Element\n",
       "Domestic supply quantity                  5258\n",
       "Export Quantity                           3660\n",
       "Fat supply quantity (g/capita/day)        4982\n",
       "Feed                                      1213\n",
       "Food                                      4912\n",
       "Food supply (kcal/capita/day)             4965\n",
       "Food supply quantity (kg/capita/yr)       4876\n",
       "Import Quantity                           4929\n",
       "Losses                                    2009\n",
       "Other uses (non-food)                     1619\n",
       "Processing                                1998\n",
       "Production                                3829\n",
       "Protein supply quantity (g/capita/day)    4980\n",
       "Residuals                                 4618\n",
       "Seed                                       758\n",
       "Stock Variation                           4231\n",
       "Total Population - Both sexes               45\n",
       "Tourist consumption                        555\n",
       "Name: Y2017, dtype: int64"
      ]
     },
     "execution_count": 19,
     "metadata": {},
     "output_type": "execute_result"
    }
   ],
   "source": [
    "#Lets group element with the feature 'Y2017' and count the values\n",
    "data['Y2017'].groupby(data['Element']).count()"
   ]
  },
  {
   "cell_type": "code",
   "execution_count": null,
   "id": "1e149a5e",
   "metadata": {},
   "outputs": [],
   "source": []
  },
  {
   "cell_type": "code",
   "execution_count": 20,
   "id": "3b60a1e5",
   "metadata": {},
   "outputs": [
    {
     "data": {
      "text/plain": [
       "Area Code       6.142777e+05\n",
       "Item Code       1.250272e+07\n",
       "Element Code    1.424974e+07\n",
       "Y2014           6.040039e+06\n",
       "Y2015           6.095798e+06\n",
       "Y2016           6.179276e+06\n",
       "Y2018           6.517689e+06\n",
       "dtype: float64"
      ]
     },
     "execution_count": 20,
     "metadata": {},
     "output_type": "execute_result"
    }
   ],
   "source": [
    "#sum of of the mean of the feature 'Y2017' across all dataset\n",
    "data.groupby('Y2017').mean().sum()"
   ]
  },
  {
   "cell_type": "code",
   "execution_count": 21,
   "id": "7115a899",
   "metadata": {},
   "outputs": [
    {
     "data": {
      "text/plain": [
       "Area Code       1.130694e+05\n",
       "Item Code       2.792155e+05\n",
       "Element Code    1.814392e+06\n",
       "Y2014           9.777057e+04\n",
       "Y2015           9.406613e+04\n",
       "Y2016           7.612997e+04\n",
       "Y2018           8.223750e+04\n",
       "dtype: float64"
      ]
     },
     "execution_count": 21,
     "metadata": {},
     "output_type": "execute_result"
    }
   ],
   "source": [
    "#sum of of the std of the feature 'Y2017' across all dataset\n",
    "data.groupby('Y2017').std().sum()"
   ]
  },
  {
   "cell_type": "code",
   "execution_count": null,
   "id": "529379b0",
   "metadata": {},
   "outputs": [],
   "source": []
  },
  {
   "cell_type": "code",
   "execution_count": null,
   "id": "2f0e6ee2",
   "metadata": {},
   "outputs": [],
   "source": []
  }
 ],
 "metadata": {
  "kernelspec": {
   "display_name": "Python 3 (ipykernel)",
   "language": "python",
   "name": "python3"
  },
  "language_info": {
   "codemirror_mode": {
    "name": "ipython",
    "version": 3
   },
   "file_extension": ".py",
   "mimetype": "text/x-python",
   "name": "python",
   "nbconvert_exporter": "python",
   "pygments_lexer": "ipython3",
   "version": "3.9.12"
  }
 },
 "nbformat": 4,
 "nbformat_minor": 5
}
