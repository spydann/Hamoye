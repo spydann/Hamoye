{
 "cells": [
  {
   "cell_type": "code",
   "execution_count": null,
   "id": "58da17b8",
   "metadata": {},
   "outputs": [],
   "source": []
  },
  {
   "cell_type": "code",
   "execution_count": 1,
   "id": "40fb201c",
   "metadata": {},
   "outputs": [],
   "source": [
    "import numpy as np \n",
    "import pandas as pd \n",
    "import matplotlib.pyplot as plt\n",
    "import seaborn as sns \n",
    "import imblearn\n",
    "sns.set()\n"
   ]
  },
  {
   "cell_type": "code",
   "execution_count": 2,
   "id": "a5e5cf8b",
   "metadata": {},
   "outputs": [
    {
     "data": {
      "text/html": [
       "<div>\n",
       "<style scoped>\n",
       "    .dataframe tbody tr th:only-of-type {\n",
       "        vertical-align: middle;\n",
       "    }\n",
       "\n",
       "    .dataframe tbody tr th {\n",
       "        vertical-align: top;\n",
       "    }\n",
       "\n",
       "    .dataframe thead th {\n",
       "        text-align: right;\n",
       "    }\n",
       "</style>\n",
       "<table border=\"1\" class=\"dataframe\">\n",
       "  <thead>\n",
       "    <tr style=\"text-align: right;\">\n",
       "      <th></th>\n",
       "      <th>tau1</th>\n",
       "      <th>tau2</th>\n",
       "      <th>tau3</th>\n",
       "      <th>tau4</th>\n",
       "      <th>p1</th>\n",
       "      <th>p2</th>\n",
       "      <th>p3</th>\n",
       "      <th>p4</th>\n",
       "      <th>g1</th>\n",
       "      <th>g2</th>\n",
       "      <th>g3</th>\n",
       "      <th>g4</th>\n",
       "      <th>stab</th>\n",
       "      <th>stabf</th>\n",
       "    </tr>\n",
       "  </thead>\n",
       "  <tbody>\n",
       "    <tr>\n",
       "      <th>0</th>\n",
       "      <td>2.959060</td>\n",
       "      <td>3.079885</td>\n",
       "      <td>8.381025</td>\n",
       "      <td>9.780754</td>\n",
       "      <td>3.763085</td>\n",
       "      <td>-0.782604</td>\n",
       "      <td>-1.257395</td>\n",
       "      <td>-1.723086</td>\n",
       "      <td>0.650456</td>\n",
       "      <td>0.859578</td>\n",
       "      <td>0.887445</td>\n",
       "      <td>0.958034</td>\n",
       "      <td>0.055347</td>\n",
       "      <td>unstable</td>\n",
       "    </tr>\n",
       "    <tr>\n",
       "      <th>1</th>\n",
       "      <td>9.304097</td>\n",
       "      <td>4.902524</td>\n",
       "      <td>3.047541</td>\n",
       "      <td>1.369357</td>\n",
       "      <td>5.067812</td>\n",
       "      <td>-1.940058</td>\n",
       "      <td>-1.872742</td>\n",
       "      <td>-1.255012</td>\n",
       "      <td>0.413441</td>\n",
       "      <td>0.862414</td>\n",
       "      <td>0.562139</td>\n",
       "      <td>0.781760</td>\n",
       "      <td>-0.005957</td>\n",
       "      <td>stable</td>\n",
       "    </tr>\n",
       "    <tr>\n",
       "      <th>2</th>\n",
       "      <td>8.971707</td>\n",
       "      <td>8.848428</td>\n",
       "      <td>3.046479</td>\n",
       "      <td>1.214518</td>\n",
       "      <td>3.405158</td>\n",
       "      <td>-1.207456</td>\n",
       "      <td>-1.277210</td>\n",
       "      <td>-0.920492</td>\n",
       "      <td>0.163041</td>\n",
       "      <td>0.766689</td>\n",
       "      <td>0.839444</td>\n",
       "      <td>0.109853</td>\n",
       "      <td>0.003471</td>\n",
       "      <td>unstable</td>\n",
       "    </tr>\n",
       "    <tr>\n",
       "      <th>3</th>\n",
       "      <td>0.716415</td>\n",
       "      <td>7.669600</td>\n",
       "      <td>4.486641</td>\n",
       "      <td>2.340563</td>\n",
       "      <td>3.963791</td>\n",
       "      <td>-1.027473</td>\n",
       "      <td>-1.938944</td>\n",
       "      <td>-0.997374</td>\n",
       "      <td>0.446209</td>\n",
       "      <td>0.976744</td>\n",
       "      <td>0.929381</td>\n",
       "      <td>0.362718</td>\n",
       "      <td>0.028871</td>\n",
       "      <td>unstable</td>\n",
       "    </tr>\n",
       "    <tr>\n",
       "      <th>4</th>\n",
       "      <td>3.134112</td>\n",
       "      <td>7.608772</td>\n",
       "      <td>4.943759</td>\n",
       "      <td>9.857573</td>\n",
       "      <td>3.525811</td>\n",
       "      <td>-1.125531</td>\n",
       "      <td>-1.845975</td>\n",
       "      <td>-0.554305</td>\n",
       "      <td>0.797110</td>\n",
       "      <td>0.455450</td>\n",
       "      <td>0.656947</td>\n",
       "      <td>0.820923</td>\n",
       "      <td>0.049860</td>\n",
       "      <td>unstable</td>\n",
       "    </tr>\n",
       "  </tbody>\n",
       "</table>\n",
       "</div>"
      ],
      "text/plain": [
       "       tau1      tau2      tau3      tau4        p1        p2        p3  \\\n",
       "0  2.959060  3.079885  8.381025  9.780754  3.763085 -0.782604 -1.257395   \n",
       "1  9.304097  4.902524  3.047541  1.369357  5.067812 -1.940058 -1.872742   \n",
       "2  8.971707  8.848428  3.046479  1.214518  3.405158 -1.207456 -1.277210   \n",
       "3  0.716415  7.669600  4.486641  2.340563  3.963791 -1.027473 -1.938944   \n",
       "4  3.134112  7.608772  4.943759  9.857573  3.525811 -1.125531 -1.845975   \n",
       "\n",
       "         p4        g1        g2        g3        g4      stab     stabf  \n",
       "0 -1.723086  0.650456  0.859578  0.887445  0.958034  0.055347  unstable  \n",
       "1 -1.255012  0.413441  0.862414  0.562139  0.781760 -0.005957    stable  \n",
       "2 -0.920492  0.163041  0.766689  0.839444  0.109853  0.003471  unstable  \n",
       "3 -0.997374  0.446209  0.976744  0.929381  0.362718  0.028871  unstable  \n",
       "4 -0.554305  0.797110  0.455450  0.656947  0.820923  0.049860  unstable  "
      ]
     },
     "execution_count": 2,
     "metadata": {},
     "output_type": "execute_result"
    }
   ],
   "source": [
    "UCI = pd.read_csv('Data_for_UCI_named.csv')\n",
    "UCI.head()"
   ]
  },
  {
   "cell_type": "code",
   "execution_count": 3,
   "id": "17744776",
   "metadata": {},
   "outputs": [
    {
     "data": {
      "text/html": [
       "<div>\n",
       "<style scoped>\n",
       "    .dataframe tbody tr th:only-of-type {\n",
       "        vertical-align: middle;\n",
       "    }\n",
       "\n",
       "    .dataframe tbody tr th {\n",
       "        vertical-align: top;\n",
       "    }\n",
       "\n",
       "    .dataframe thead th {\n",
       "        text-align: right;\n",
       "    }\n",
       "</style>\n",
       "<table border=\"1\" class=\"dataframe\">\n",
       "  <thead>\n",
       "    <tr style=\"text-align: right;\">\n",
       "      <th></th>\n",
       "      <th>count</th>\n",
       "      <th>mean</th>\n",
       "      <th>std</th>\n",
       "      <th>min</th>\n",
       "      <th>25%</th>\n",
       "      <th>50%</th>\n",
       "      <th>75%</th>\n",
       "      <th>max</th>\n",
       "    </tr>\n",
       "  </thead>\n",
       "  <tbody>\n",
       "    <tr>\n",
       "      <th>tau1</th>\n",
       "      <td>10000.0</td>\n",
       "      <td>5.250000</td>\n",
       "      <td>2.742548</td>\n",
       "      <td>0.500793</td>\n",
       "      <td>2.874892</td>\n",
       "      <td>5.250004</td>\n",
       "      <td>7.624690</td>\n",
       "      <td>9.999469</td>\n",
       "    </tr>\n",
       "    <tr>\n",
       "      <th>tau2</th>\n",
       "      <td>10000.0</td>\n",
       "      <td>5.250001</td>\n",
       "      <td>2.742549</td>\n",
       "      <td>0.500141</td>\n",
       "      <td>2.875140</td>\n",
       "      <td>5.249981</td>\n",
       "      <td>7.624893</td>\n",
       "      <td>9.999837</td>\n",
       "    </tr>\n",
       "    <tr>\n",
       "      <th>tau3</th>\n",
       "      <td>10000.0</td>\n",
       "      <td>5.250004</td>\n",
       "      <td>2.742549</td>\n",
       "      <td>0.500788</td>\n",
       "      <td>2.875522</td>\n",
       "      <td>5.249979</td>\n",
       "      <td>7.624948</td>\n",
       "      <td>9.999450</td>\n",
       "    </tr>\n",
       "    <tr>\n",
       "      <th>tau4</th>\n",
       "      <td>10000.0</td>\n",
       "      <td>5.249997</td>\n",
       "      <td>2.742556</td>\n",
       "      <td>0.500473</td>\n",
       "      <td>2.874950</td>\n",
       "      <td>5.249734</td>\n",
       "      <td>7.624838</td>\n",
       "      <td>9.999443</td>\n",
       "    </tr>\n",
       "    <tr>\n",
       "      <th>p1</th>\n",
       "      <td>10000.0</td>\n",
       "      <td>3.750000</td>\n",
       "      <td>0.752160</td>\n",
       "      <td>1.582590</td>\n",
       "      <td>3.218300</td>\n",
       "      <td>3.751025</td>\n",
       "      <td>4.282420</td>\n",
       "      <td>5.864418</td>\n",
       "    </tr>\n",
       "    <tr>\n",
       "      <th>p2</th>\n",
       "      <td>10000.0</td>\n",
       "      <td>-1.250000</td>\n",
       "      <td>0.433035</td>\n",
       "      <td>-1.999891</td>\n",
       "      <td>-1.624901</td>\n",
       "      <td>-1.249966</td>\n",
       "      <td>-0.874977</td>\n",
       "      <td>-0.500108</td>\n",
       "    </tr>\n",
       "    <tr>\n",
       "      <th>p3</th>\n",
       "      <td>10000.0</td>\n",
       "      <td>-1.250000</td>\n",
       "      <td>0.433035</td>\n",
       "      <td>-1.999945</td>\n",
       "      <td>-1.625025</td>\n",
       "      <td>-1.249974</td>\n",
       "      <td>-0.875043</td>\n",
       "      <td>-0.500072</td>\n",
       "    </tr>\n",
       "    <tr>\n",
       "      <th>p4</th>\n",
       "      <td>10000.0</td>\n",
       "      <td>-1.250000</td>\n",
       "      <td>0.433035</td>\n",
       "      <td>-1.999926</td>\n",
       "      <td>-1.624960</td>\n",
       "      <td>-1.250007</td>\n",
       "      <td>-0.875065</td>\n",
       "      <td>-0.500025</td>\n",
       "    </tr>\n",
       "    <tr>\n",
       "      <th>g1</th>\n",
       "      <td>10000.0</td>\n",
       "      <td>0.525000</td>\n",
       "      <td>0.274256</td>\n",
       "      <td>0.050009</td>\n",
       "      <td>0.287521</td>\n",
       "      <td>0.525009</td>\n",
       "      <td>0.762435</td>\n",
       "      <td>0.999937</td>\n",
       "    </tr>\n",
       "    <tr>\n",
       "      <th>g2</th>\n",
       "      <td>10000.0</td>\n",
       "      <td>0.525000</td>\n",
       "      <td>0.274255</td>\n",
       "      <td>0.050053</td>\n",
       "      <td>0.287552</td>\n",
       "      <td>0.525003</td>\n",
       "      <td>0.762490</td>\n",
       "      <td>0.999944</td>\n",
       "    </tr>\n",
       "    <tr>\n",
       "      <th>g3</th>\n",
       "      <td>10000.0</td>\n",
       "      <td>0.525000</td>\n",
       "      <td>0.274255</td>\n",
       "      <td>0.050054</td>\n",
       "      <td>0.287514</td>\n",
       "      <td>0.525015</td>\n",
       "      <td>0.762440</td>\n",
       "      <td>0.999982</td>\n",
       "    </tr>\n",
       "    <tr>\n",
       "      <th>g4</th>\n",
       "      <td>10000.0</td>\n",
       "      <td>0.525000</td>\n",
       "      <td>0.274255</td>\n",
       "      <td>0.050028</td>\n",
       "      <td>0.287494</td>\n",
       "      <td>0.525002</td>\n",
       "      <td>0.762433</td>\n",
       "      <td>0.999930</td>\n",
       "    </tr>\n",
       "    <tr>\n",
       "      <th>stab</th>\n",
       "      <td>10000.0</td>\n",
       "      <td>0.015731</td>\n",
       "      <td>0.036919</td>\n",
       "      <td>-0.080760</td>\n",
       "      <td>-0.015557</td>\n",
       "      <td>0.017142</td>\n",
       "      <td>0.044878</td>\n",
       "      <td>0.109403</td>\n",
       "    </tr>\n",
       "  </tbody>\n",
       "</table>\n",
       "</div>"
      ],
      "text/plain": [
       "        count      mean       std       min       25%       50%       75%  \\\n",
       "tau1  10000.0  5.250000  2.742548  0.500793  2.874892  5.250004  7.624690   \n",
       "tau2  10000.0  5.250001  2.742549  0.500141  2.875140  5.249981  7.624893   \n",
       "tau3  10000.0  5.250004  2.742549  0.500788  2.875522  5.249979  7.624948   \n",
       "tau4  10000.0  5.249997  2.742556  0.500473  2.874950  5.249734  7.624838   \n",
       "p1    10000.0  3.750000  0.752160  1.582590  3.218300  3.751025  4.282420   \n",
       "p2    10000.0 -1.250000  0.433035 -1.999891 -1.624901 -1.249966 -0.874977   \n",
       "p3    10000.0 -1.250000  0.433035 -1.999945 -1.625025 -1.249974 -0.875043   \n",
       "p4    10000.0 -1.250000  0.433035 -1.999926 -1.624960 -1.250007 -0.875065   \n",
       "g1    10000.0  0.525000  0.274256  0.050009  0.287521  0.525009  0.762435   \n",
       "g2    10000.0  0.525000  0.274255  0.050053  0.287552  0.525003  0.762490   \n",
       "g3    10000.0  0.525000  0.274255  0.050054  0.287514  0.525015  0.762440   \n",
       "g4    10000.0  0.525000  0.274255  0.050028  0.287494  0.525002  0.762433   \n",
       "stab  10000.0  0.015731  0.036919 -0.080760 -0.015557  0.017142  0.044878   \n",
       "\n",
       "           max  \n",
       "tau1  9.999469  \n",
       "tau2  9.999837  \n",
       "tau3  9.999450  \n",
       "tau4  9.999443  \n",
       "p1    5.864418  \n",
       "p2   -0.500108  \n",
       "p3   -0.500072  \n",
       "p4   -0.500025  \n",
       "g1    0.999937  \n",
       "g2    0.999944  \n",
       "g3    0.999982  \n",
       "g4    0.999930  \n",
       "stab  0.109403  "
      ]
     },
     "execution_count": 3,
     "metadata": {},
     "output_type": "execute_result"
    }
   ],
   "source": [
    "UCI.describe().transpose()"
   ]
  },
  {
   "cell_type": "code",
   "execution_count": 4,
   "id": "cb97b14e",
   "metadata": {},
   "outputs": [
    {
     "name": "stdout",
     "output_type": "stream",
     "text": [
      "<class 'pandas.core.frame.DataFrame'>\n",
      "RangeIndex: 10000 entries, 0 to 9999\n",
      "Data columns (total 14 columns):\n",
      " #   Column  Non-Null Count  Dtype  \n",
      "---  ------  --------------  -----  \n",
      " 0   tau1    10000 non-null  float64\n",
      " 1   tau2    10000 non-null  float64\n",
      " 2   tau3    10000 non-null  float64\n",
      " 3   tau4    10000 non-null  float64\n",
      " 4   p1      10000 non-null  float64\n",
      " 5   p2      10000 non-null  float64\n",
      " 6   p3      10000 non-null  float64\n",
      " 7   p4      10000 non-null  float64\n",
      " 8   g1      10000 non-null  float64\n",
      " 9   g2      10000 non-null  float64\n",
      " 10  g3      10000 non-null  float64\n",
      " 11  g4      10000 non-null  float64\n",
      " 12  stab    10000 non-null  float64\n",
      " 13  stabf   10000 non-null  object \n",
      "dtypes: float64(13), object(1)\n",
      "memory usage: 1.1+ MB\n"
     ]
    }
   ],
   "source": [
    "UCI.info()"
   ]
  },
  {
   "cell_type": "code",
   "execution_count": 5,
   "id": "701f7713",
   "metadata": {},
   "outputs": [
    {
     "data": {
      "text/html": [
       "<div>\n",
       "<style scoped>\n",
       "    .dataframe tbody tr th:only-of-type {\n",
       "        vertical-align: middle;\n",
       "    }\n",
       "\n",
       "    .dataframe tbody tr th {\n",
       "        vertical-align: top;\n",
       "    }\n",
       "\n",
       "    .dataframe thead th {\n",
       "        text-align: right;\n",
       "    }\n",
       "</style>\n",
       "<table border=\"1\" class=\"dataframe\">\n",
       "  <thead>\n",
       "    <tr style=\"text-align: right;\">\n",
       "      <th></th>\n",
       "      <th>tau1</th>\n",
       "      <th>tau2</th>\n",
       "      <th>tau3</th>\n",
       "      <th>tau4</th>\n",
       "      <th>p1</th>\n",
       "      <th>p2</th>\n",
       "      <th>p3</th>\n",
       "      <th>p4</th>\n",
       "      <th>g1</th>\n",
       "      <th>g2</th>\n",
       "      <th>g3</th>\n",
       "      <th>g4</th>\n",
       "      <th>stab</th>\n",
       "      <th>stabf</th>\n",
       "    </tr>\n",
       "  </thead>\n",
       "  <tbody>\n",
       "    <tr>\n",
       "      <th>0</th>\n",
       "      <td>2.959060</td>\n",
       "      <td>3.079885</td>\n",
       "      <td>8.381025</td>\n",
       "      <td>9.780754</td>\n",
       "      <td>3.763085</td>\n",
       "      <td>-0.782604</td>\n",
       "      <td>-1.257395</td>\n",
       "      <td>-1.723086</td>\n",
       "      <td>0.650456</td>\n",
       "      <td>0.859578</td>\n",
       "      <td>0.887445</td>\n",
       "      <td>0.958034</td>\n",
       "      <td>0.055347</td>\n",
       "      <td>unstable</td>\n",
       "    </tr>\n",
       "    <tr>\n",
       "      <th>1</th>\n",
       "      <td>9.304097</td>\n",
       "      <td>4.902524</td>\n",
       "      <td>3.047541</td>\n",
       "      <td>1.369357</td>\n",
       "      <td>5.067812</td>\n",
       "      <td>-1.940058</td>\n",
       "      <td>-1.872742</td>\n",
       "      <td>-1.255012</td>\n",
       "      <td>0.413441</td>\n",
       "      <td>0.862414</td>\n",
       "      <td>0.562139</td>\n",
       "      <td>0.781760</td>\n",
       "      <td>-0.005957</td>\n",
       "      <td>stable</td>\n",
       "    </tr>\n",
       "    <tr>\n",
       "      <th>2</th>\n",
       "      <td>8.971707</td>\n",
       "      <td>8.848428</td>\n",
       "      <td>3.046479</td>\n",
       "      <td>1.214518</td>\n",
       "      <td>3.405158</td>\n",
       "      <td>-1.207456</td>\n",
       "      <td>-1.277210</td>\n",
       "      <td>-0.920492</td>\n",
       "      <td>0.163041</td>\n",
       "      <td>0.766689</td>\n",
       "      <td>0.839444</td>\n",
       "      <td>0.109853</td>\n",
       "      <td>0.003471</td>\n",
       "      <td>unstable</td>\n",
       "    </tr>\n",
       "    <tr>\n",
       "      <th>3</th>\n",
       "      <td>0.716415</td>\n",
       "      <td>7.669600</td>\n",
       "      <td>4.486641</td>\n",
       "      <td>2.340563</td>\n",
       "      <td>3.963791</td>\n",
       "      <td>-1.027473</td>\n",
       "      <td>-1.938944</td>\n",
       "      <td>-0.997374</td>\n",
       "      <td>0.446209</td>\n",
       "      <td>0.976744</td>\n",
       "      <td>0.929381</td>\n",
       "      <td>0.362718</td>\n",
       "      <td>0.028871</td>\n",
       "      <td>unstable</td>\n",
       "    </tr>\n",
       "    <tr>\n",
       "      <th>4</th>\n",
       "      <td>3.134112</td>\n",
       "      <td>7.608772</td>\n",
       "      <td>4.943759</td>\n",
       "      <td>9.857573</td>\n",
       "      <td>3.525811</td>\n",
       "      <td>-1.125531</td>\n",
       "      <td>-1.845975</td>\n",
       "      <td>-0.554305</td>\n",
       "      <td>0.797110</td>\n",
       "      <td>0.455450</td>\n",
       "      <td>0.656947</td>\n",
       "      <td>0.820923</td>\n",
       "      <td>0.049860</td>\n",
       "      <td>unstable</td>\n",
       "    </tr>\n",
       "    <tr>\n",
       "      <th>...</th>\n",
       "      <td>...</td>\n",
       "      <td>...</td>\n",
       "      <td>...</td>\n",
       "      <td>...</td>\n",
       "      <td>...</td>\n",
       "      <td>...</td>\n",
       "      <td>...</td>\n",
       "      <td>...</td>\n",
       "      <td>...</td>\n",
       "      <td>...</td>\n",
       "      <td>...</td>\n",
       "      <td>...</td>\n",
       "      <td>...</td>\n",
       "      <td>...</td>\n",
       "    </tr>\n",
       "    <tr>\n",
       "      <th>9995</th>\n",
       "      <td>2.930406</td>\n",
       "      <td>9.487627</td>\n",
       "      <td>2.376523</td>\n",
       "      <td>6.187797</td>\n",
       "      <td>3.343416</td>\n",
       "      <td>-0.658054</td>\n",
       "      <td>-1.449106</td>\n",
       "      <td>-1.236256</td>\n",
       "      <td>0.601709</td>\n",
       "      <td>0.779642</td>\n",
       "      <td>0.813512</td>\n",
       "      <td>0.608385</td>\n",
       "      <td>0.023892</td>\n",
       "      <td>unstable</td>\n",
       "    </tr>\n",
       "    <tr>\n",
       "      <th>9996</th>\n",
       "      <td>3.392299</td>\n",
       "      <td>1.274827</td>\n",
       "      <td>2.954947</td>\n",
       "      <td>6.894759</td>\n",
       "      <td>4.349512</td>\n",
       "      <td>-1.663661</td>\n",
       "      <td>-0.952437</td>\n",
       "      <td>-1.733414</td>\n",
       "      <td>0.502079</td>\n",
       "      <td>0.567242</td>\n",
       "      <td>0.285880</td>\n",
       "      <td>0.366120</td>\n",
       "      <td>-0.025803</td>\n",
       "      <td>stable</td>\n",
       "    </tr>\n",
       "    <tr>\n",
       "      <th>9997</th>\n",
       "      <td>2.364034</td>\n",
       "      <td>2.842030</td>\n",
       "      <td>8.776391</td>\n",
       "      <td>1.008906</td>\n",
       "      <td>4.299976</td>\n",
       "      <td>-1.380719</td>\n",
       "      <td>-0.943884</td>\n",
       "      <td>-1.975373</td>\n",
       "      <td>0.487838</td>\n",
       "      <td>0.986505</td>\n",
       "      <td>0.149286</td>\n",
       "      <td>0.145984</td>\n",
       "      <td>-0.031810</td>\n",
       "      <td>stable</td>\n",
       "    </tr>\n",
       "    <tr>\n",
       "      <th>9998</th>\n",
       "      <td>9.631511</td>\n",
       "      <td>3.994398</td>\n",
       "      <td>2.757071</td>\n",
       "      <td>7.821347</td>\n",
       "      <td>2.514755</td>\n",
       "      <td>-0.966330</td>\n",
       "      <td>-0.649915</td>\n",
       "      <td>-0.898510</td>\n",
       "      <td>0.365246</td>\n",
       "      <td>0.587558</td>\n",
       "      <td>0.889118</td>\n",
       "      <td>0.818391</td>\n",
       "      <td>0.037789</td>\n",
       "      <td>unstable</td>\n",
       "    </tr>\n",
       "    <tr>\n",
       "      <th>9999</th>\n",
       "      <td>6.530527</td>\n",
       "      <td>6.781790</td>\n",
       "      <td>4.349695</td>\n",
       "      <td>8.673138</td>\n",
       "      <td>3.492807</td>\n",
       "      <td>-1.390285</td>\n",
       "      <td>-1.532193</td>\n",
       "      <td>-0.570329</td>\n",
       "      <td>0.073056</td>\n",
       "      <td>0.505441</td>\n",
       "      <td>0.378761</td>\n",
       "      <td>0.942631</td>\n",
       "      <td>0.045263</td>\n",
       "      <td>unstable</td>\n",
       "    </tr>\n",
       "  </tbody>\n",
       "</table>\n",
       "<p>10000 rows × 14 columns</p>\n",
       "</div>"
      ],
      "text/plain": [
       "          tau1      tau2      tau3      tau4        p1        p2        p3  \\\n",
       "0     2.959060  3.079885  8.381025  9.780754  3.763085 -0.782604 -1.257395   \n",
       "1     9.304097  4.902524  3.047541  1.369357  5.067812 -1.940058 -1.872742   \n",
       "2     8.971707  8.848428  3.046479  1.214518  3.405158 -1.207456 -1.277210   \n",
       "3     0.716415  7.669600  4.486641  2.340563  3.963791 -1.027473 -1.938944   \n",
       "4     3.134112  7.608772  4.943759  9.857573  3.525811 -1.125531 -1.845975   \n",
       "...        ...       ...       ...       ...       ...       ...       ...   \n",
       "9995  2.930406  9.487627  2.376523  6.187797  3.343416 -0.658054 -1.449106   \n",
       "9996  3.392299  1.274827  2.954947  6.894759  4.349512 -1.663661 -0.952437   \n",
       "9997  2.364034  2.842030  8.776391  1.008906  4.299976 -1.380719 -0.943884   \n",
       "9998  9.631511  3.994398  2.757071  7.821347  2.514755 -0.966330 -0.649915   \n",
       "9999  6.530527  6.781790  4.349695  8.673138  3.492807 -1.390285 -1.532193   \n",
       "\n",
       "            p4        g1        g2        g3        g4      stab     stabf  \n",
       "0    -1.723086  0.650456  0.859578  0.887445  0.958034  0.055347  unstable  \n",
       "1    -1.255012  0.413441  0.862414  0.562139  0.781760 -0.005957    stable  \n",
       "2    -0.920492  0.163041  0.766689  0.839444  0.109853  0.003471  unstable  \n",
       "3    -0.997374  0.446209  0.976744  0.929381  0.362718  0.028871  unstable  \n",
       "4    -0.554305  0.797110  0.455450  0.656947  0.820923  0.049860  unstable  \n",
       "...        ...       ...       ...       ...       ...       ...       ...  \n",
       "9995 -1.236256  0.601709  0.779642  0.813512  0.608385  0.023892  unstable  \n",
       "9996 -1.733414  0.502079  0.567242  0.285880  0.366120 -0.025803    stable  \n",
       "9997 -1.975373  0.487838  0.986505  0.149286  0.145984 -0.031810    stable  \n",
       "9998 -0.898510  0.365246  0.587558  0.889118  0.818391  0.037789  unstable  \n",
       "9999 -0.570329  0.073056  0.505441  0.378761  0.942631  0.045263  unstable  \n",
       "\n",
       "[10000 rows x 14 columns]"
      ]
     },
     "execution_count": 5,
     "metadata": {},
     "output_type": "execute_result"
    }
   ],
   "source": [
    "UCI"
   ]
  },
  {
   "cell_type": "code",
   "execution_count": 6,
   "id": "01063283",
   "metadata": {},
   "outputs": [],
   "source": [
    "#dropping the stab column\n",
    "UCI.drop(['stab'],axis=1,inplace =True)"
   ]
  },
  {
   "cell_type": "code",
   "execution_count": 7,
   "id": "c10427e5",
   "metadata": {},
   "outputs": [],
   "source": [
    "y = UCI['stabf']\n",
    "x = UCI.drop(['stabf'],axis=1)"
   ]
  },
  {
   "cell_type": "code",
   "execution_count": 8,
   "id": "0b58b230",
   "metadata": {},
   "outputs": [],
   "source": [
    "#label encoding \n",
    "from sklearn.preprocessing import LabelEncoder \n",
    "encode = LabelEncoder()\n",
    "y = encode.fit_transform(y)"
   ]
  },
  {
   "cell_type": "code",
   "execution_count": 9,
   "id": "a9a1f070",
   "metadata": {},
   "outputs": [
    {
     "data": {
      "text/plain": [
       "unstable    6380\n",
       "stable      3620\n",
       "Name: stabf, dtype: int64"
      ]
     },
     "execution_count": 9,
     "metadata": {},
     "output_type": "execute_result"
    }
   ],
   "source": [
    "UCI['stabf'].value_counts()"
   ]
  },
  {
   "cell_type": "code",
   "execution_count": 10,
   "id": "f4b516b6",
   "metadata": {},
   "outputs": [
    {
     "data": {
      "text/plain": [
       "StandardScaler()"
      ]
     },
     "execution_count": 10,
     "metadata": {},
     "output_type": "execute_result"
    }
   ],
   "source": [
    "#Standardization\n",
    "from sklearn.preprocessing import StandardScaler\n",
    "scaler = StandardScaler()\n",
    "scaler.fit(x)"
   ]
  },
  {
   "cell_type": "code",
   "execution_count": 11,
   "id": "7f278a04",
   "metadata": {},
   "outputs": [],
   "source": [
    "x_scaled = scaler.transform(x)"
   ]
  },
  {
   "cell_type": "code",
   "execution_count": 12,
   "id": "5a03fca9",
   "metadata": {},
   "outputs": [],
   "source": [
    "from sklearn.model_selection import train_test_split\n",
    "x_train,x_test,y_train,y_test = train_test_split(x_scaled,y,test_size = 0.2,random_state=1 ,stratify=y)"
   ]
  },
  {
   "cell_type": "code",
   "execution_count": 13,
   "id": "affaf63c",
   "metadata": {},
   "outputs": [
    {
     "name": "stderr",
     "output_type": "stream",
     "text": [
      "C:\\Users\\User\\anaconda3\\lib\\site-packages\\seaborn\\_decorators.py:36: FutureWarning: Pass the following variable as a keyword arg: x. From version 0.12, the only valid positional argument will be `data`, and passing other arguments without an explicit keyword will result in an error or misinterpretation.\n",
      "  warnings.warn(\n"
     ]
    },
    {
     "data": {
      "text/plain": [
       "<AxesSubplot:ylabel='count'>"
      ]
     },
     "execution_count": 13,
     "metadata": {},
     "output_type": "execute_result"
    },
    {
     "data": {
      "image/png": "[encoded data removed]",
      "text/plain": [
       "<Figure size 432x288 with 1 Axes>"
      ]
     },
     "metadata": {},
     "output_type": "display_data"
    }
   ],
   "source": [
    "#visualizing the imbalanced class distributions \n",
    "sns.countplot(y_train)"
   ]
  },
  {
   "cell_type": "code",
   "execution_count": 14,
   "id": "9b3992a0",
   "metadata": {},
   "outputs": [],
   "source": [
    "# Using Smote to treat the imbalanced class distribution\n",
    "from imblearn.over_sampling import SMOTE\n",
    "\n",
    "smote = SMOTE(random_state=1)\n",
    "x_balanced,y_balanced= smote.fit_resample(x_train,y_train)  "
   ]
  },
  {
   "cell_type": "code",
   "execution_count": 15,
   "id": "ed617f97",
   "metadata": {},
   "outputs": [
    {
     "name": "stderr",
     "output_type": "stream",
     "text": [
      "C:\\Users\\User\\anaconda3\\lib\\site-packages\\seaborn\\_decorators.py:36: FutureWarning: Pass the following variable as a keyword arg: x. From version 0.12, the only valid positional argument will be `data`, and passing other arguments without an explicit keyword will result in an error or misinterpretation.\n",
      "  warnings.warn(\n"
     ]
    },
    {
     "data": {
      "text/plain": [
       "<AxesSubplot:ylabel='count'>"
      ]
     },
     "execution_count": 15,
     "metadata": {},
     "output_type": "execute_result"
    },
    {
     "data": {
      "image/png": "[encoded data removed]",
      "text/plain": [
       "<Figure size 432x288 with 1 Axes>"
      ]
     },
     "metadata": {},
     "output_type": "display_data"
    }
   ],
   "source": [
    "sns.countplot(y_balanced)"
   ]
  },
  {
   "cell_type": "code",
   "execution_count": 16,
   "id": "93057379",
   "metadata": {},
   "outputs": [
    {
     "data": {
      "text/plain": [
       "1    5104\n",
       "0    5104\n",
       "dtype: int64"
      ]
     },
     "execution_count": 16,
     "metadata": {},
     "output_type": "execute_result"
    }
   ],
   "source": [
    " Y = pd.Series(y_balanced).value_counts()\n",
    " Y\n"
   ]
  },
  {
   "cell_type": "markdown",
   "id": "176f968c",
   "metadata": {},
   "source": [
    "# Model and Evaluation"
   ]
  },
  {
   "cell_type": "code",
   "execution_count": 66,
   "id": "250549c8",
   "metadata": {},
   "outputs": [],
   "source": [
    "from sklearn.model_selection import KFold,cross_val_score,cross_val_predict,GridSearchCV,train_test_split,StratifiedKFold\n",
    "from sklearn.metrics import roc_auc_score, roc_curve,log_loss,confusion_matrix ,precision_score,recall_score,classification_report,accuracy_score"
   ]
  },
  {
   "cell_type": "markdown",
   "id": "c997b1bf",
   "metadata": {},
   "source": [
    "RandomForest Classifier\n"
   ]
  },
  {
   "cell_type": "code",
   "execution_count": 69,
   "id": "2b984c3a",
   "metadata": {
    "scrolled": true
   },
   "outputs": [
    {
     "data": {
      "text/plain": [
       "1.0"
      ]
     },
     "execution_count": 69,
     "metadata": {},
     "output_type": "execute_result"
    }
   ],
   "source": [
    "from sklearn.ensemble import RandomForestClassifier,ExtraTreesClassifier\n",
    "RF = RandomForestClassifier(random_state = 1)\n",
    "RF.fit(x_balanced,y_balanced)\n",
    "RF_preds = RF.predict(x_test)\n",
    "RF.score(x_balanced,y_balanced)"
   ]
  },
  {
   "cell_type": "markdown",
   "id": "5fbe19ae",
   "metadata": {},
   "source": [
    "Measuring Performance Evaluation"
   ]
  },
  {
   "cell_type": "code",
   "execution_count": 72,
   "id": "17ee6d1e",
   "metadata": {},
   "outputs": [
    {
     "name": "stdout",
     "output_type": "stream",
     "text": [
      "              precision    recall  f1-score   support\n",
      "\n",
      "           0       0.89      0.90      0.89       724\n",
      "           1       0.94      0.93      0.94      1276\n",
      "\n",
      "    accuracy                           0.92      2000\n",
      "   macro avg       0.91      0.92      0.91      2000\n",
      "weighted avg       0.92      0.92      0.92      2000\n",
      "\n",
      "Traning Score: 1.0\n",
      "Test score: 0.9205\n",
      "Accuracy score: 0.9205\n"
     ]
    }
   ],
   "source": [
    "#classification Report \n",
    "print(classification_report(y_test,RF_preds))\n",
    "\n",
    "#traning \n",
    "print(f'Traning Score:',RF.score(x_balanced,y_balanced))\n",
    "print(f'Test score:',RF.score(x_test,y_test))\n",
    "print(f'Accuracy score:',accuracy_score(y_test,RF_preds))"
   ]
  },
  {
   "cell_type": "markdown",
   "id": "cf971e60",
   "metadata": {},
   "source": [
    "ExtraTrees Classifier "
   ]
  },
  {
   "cell_type": "code",
   "execution_count": 19,
   "id": "ec695f1d",
   "metadata": {},
   "outputs": [],
   "source": [
    "ET = ExtraTreesClassifier()\n",
    "ET.fit(x_balanced,y_balanced)\n",
    "ET_preds = RF.predict(x_test)"
   ]
  },
  {
   "cell_type": "markdown",
   "id": "e00f3e23",
   "metadata": {},
   "source": [
    "Measuring Performance Evaluation"
   ]
  },
  {
   "cell_type": "code",
   "execution_count": 73,
   "id": "1a32fb14",
   "metadata": {},
   "outputs": [
    {
     "name": "stdout",
     "output_type": "stream",
     "text": [
      "              precision    recall  f1-score   support\n",
      "\n",
      "           0       0.89      0.90      0.89       724\n",
      "           1       0.94      0.93      0.94      1276\n",
      "\n",
      "    accuracy                           0.92      2000\n",
      "   macro avg       0.91      0.92      0.91      2000\n",
      "weighted avg       0.92      0.92      0.92      2000\n",
      "\n",
      "Traning Score: 1.0\n",
      "Testing: 0.926\n",
      "Accuracy score: 0.9205\n"
     ]
    }
   ],
   "source": [
    "print(classification_report(y_test,ET_preds))\n",
    "\n",
    "print(f'Traning Score:',ET.score(x_balanced,y_balanced))\n",
    "print(f'Testing:',ET.score(x_test,y_test))\n",
    "print(f'Accuracy score:',accuracy_score(y_test,ET_preds))"
   ]
  },
  {
   "cell_type": "markdown",
   "id": "2bd8764f",
   "metadata": {},
   "source": [
    "HyperParameter Tuning"
   ]
  },
  {
   "cell_type": "code",
   "execution_count": 21,
   "id": "255861d7",
   "metadata": {},
   "outputs": [],
   "source": [
    "from scipy.stats import randint\n",
    "from sklearn.model_selection import RandomizedSearchCV"
   ]
  },
  {
   "cell_type": "code",
   "execution_count": 22,
   "id": "7dbe2917",
   "metadata": {},
   "outputs": [
    {
     "data": {
      "text/plain": [
       "dict_keys(['bootstrap', 'ccp_alpha', 'class_weight', 'criterion', 'max_depth', 'max_features', 'max_leaf_nodes', 'max_samples', 'min_impurity_decrease', 'min_samples_leaf', 'min_samples_split', 'min_weight_fraction_leaf', 'n_estimators', 'n_jobs', 'oob_score', 'random_state', 'verbose', 'warm_start'])"
      ]
     },
     "execution_count": 22,
     "metadata": {},
     "output_type": "execute_result"
    }
   ],
   "source": [
    "ET.get_params().keys()"
   ]
  },
  {
   "cell_type": "code",
   "execution_count": 37,
   "id": "abc6ea91",
   "metadata": {},
   "outputs": [
    {
     "name": "stdout",
     "output_type": "stream",
     "text": [
      "Fitting 5 folds for each of 10 candidates, totalling 50 fits\n"
     ]
    },
    {
     "data": {
      "text/plain": [
       "RandomizedSearchCV(cv=5, estimator=ExtraTreesClassifier(), n_jobs=-1,\n",
       "                   param_distributions={'max_features': ['auto', 'log2'],\n",
       "                                        'min_samples_leaf': <scipy.stats._distn_infrastructure.rv_frozen object at 0x000001D3CA1E1460>,\n",
       "                                        'min_samples_split': <scipy.stats._distn_infrastructure.rv_frozen object at 0x000001D3B8458A00>,\n",
       "                                        'n_estimators': [100, 300, 500, 100]},\n",
       "                   random_state=1, scoring='accuracy', verbose=1)"
      ]
     },
     "execution_count": 37,
     "metadata": {},
     "output_type": "execute_result"
    }
   ],
   "source": [
    "#parameters\n",
    "Params = {'n_estimators':[100,300,500,100],\n",
    "          'min_samples_split':randInt(1,10),\n",
    "          'min_samples_leaf':randInt(1,10),\n",
    "          'max_features':['auto','log2']}\n",
    "Rc = RandomizedSearchCV(estimator = ET ,cv = 5,n_iter= 10,scoring= 'accuracy',\n",
    "                        n_jobs=-1,verbose= 1,param_distributions = Params,random_state = 1)\n",
    "Rc.fit(x_balanced,y_balanced)"
   ]
  },
  {
   "cell_type": "code",
   "execution_count": 38,
   "id": "b761516b",
   "metadata": {},
   "outputs": [
    {
     "data": {
      "text/plain": [
       "{'max_features': 'log2',\n",
       " 'min_samples_leaf': 2,\n",
       " 'min_samples_split': 8,\n",
       " 'n_estimators': 500}"
      ]
     },
     "execution_count": 38,
     "metadata": {},
     "output_type": "execute_result"
    }
   ],
   "source": [
    "Rc.best_params_"
   ]
  },
  {
   "cell_type": "code",
   "execution_count": 40,
   "id": "05764517",
   "metadata": {},
   "outputs": [],
   "source": [
    "Hyper_ET = ExtraTreesClassifier(max_features = 'log2', min_samples_leaf= 2,\n",
    " min_samples_split= 8,n_estimators = 500,random_state = 1)\n",
    "Hyper_ET.fit(x_balanced,y_balanced)\n",
    "Hyper_ET_preds = RF.predict(x_test)"
   ]
  },
  {
   "cell_type": "code",
   "execution_count": 76,
   "id": "6d1dc271",
   "metadata": {},
   "outputs": [
    {
     "name": "stdout",
     "output_type": "stream",
     "text": [
      "              precision    recall  f1-score   support\n",
      "\n",
      "           0       0.89      0.90      0.89       724\n",
      "           1       0.94      0.93      0.94      1276\n",
      "\n",
      "    accuracy                           0.92      2000\n",
      "   macro avg       0.91      0.92      0.91      2000\n",
      "weighted avg       0.92      0.92      0.92      2000\n",
      "\n",
      "Traning Score: 1.0\n",
      "Testing: 0.931\n",
      "Accuracy score: 0.9205\n"
     ]
    }
   ],
   "source": [
    "print(classification_report(y_test,Hyper_ET_preds))\n",
    "\n",
    "print(f'Traning Score:',Hyper_ET.score(x_balanced,y_balanced))\n",
    "print(f'Testing:',Hyper_ET.score(x_test,y_test))\n",
    "print(f'Accuracy score:',accuracy_score(Hyper_ET_preds,y_test))"
   ]
  },
  {
   "cell_type": "markdown",
   "id": "96f02408",
   "metadata": {},
   "source": [
    "Feature Importance"
   ]
  },
  {
   "cell_type": "code",
   "execution_count": 52,
   "id": "020de0e2",
   "metadata": {},
   "outputs": [],
   "source": [
    "#Computing the feature importance of each feature\n",
    "feature_importance = Hyper_ET.feature_importances_\n",
    "X_train = pd.DataFrame(x_train)"
   ]
  },
  {
   "cell_type": "code",
   "execution_count": 60,
   "id": "cc769536",
   "metadata": {},
   "outputs": [],
   "source": [
    "#creating a dataframe for visualizing the feature importances \n",
    "def plot_importances(columns,importances,n=20):\n",
    "    df = (pd.DataFrame({'Features':columns,\n",
    "                       'Features_Importance':importances}).sort_values('Features_Importance',ascending=False)\n",
    "                      .reset_index(drop=False))\n",
    "    \n",
    "    #Plotting the dataframe \n",
    "    fig,ax = plt.subplots(figsize =(10,8))\n",
    "    ax = sns.barplot(x='Features_Importance',y='Features',data =df[:n],orient = 'h')\n",
    "    plt.xlabel('Feature Importances',size=18)\n",
    "    plt.ylabel('Features',size=18)\n",
    "    "
   ]
  },
  {
   "cell_type": "code",
   "execution_count": 62,
   "id": "1af5f94f",
   "metadata": {},
   "outputs": [
    {
     "data": {
      "image/png": "[encoded data removed]",
      "text/plain": [
       "<Figure size 720x576 with 1 Axes>"
      ]
     },
     "metadata": {},
     "output_type": "display_data"
    }
   ],
   "source": [
    "plot_importances(x.columns,feature_importance)"
   ]
  },
  {
   "cell_type": "code",
   "execution_count": 63,
   "id": "b32e400c",
   "metadata": {},
   "outputs": [
    {
     "data": {
      "text/plain": [
       "Index(['tau1', 'tau2', 'tau3', 'tau4', 'p1', 'p2', 'p3', 'p4', 'g1', 'g2',\n",
       "       'g3', 'g4'],\n",
       "      dtype='object')"
      ]
     },
     "execution_count": 63,
     "metadata": {},
     "output_type": "execute_result"
    }
   ],
   "source": [
    "x.columns"
   ]
  },
  {
   "cell_type": "markdown",
   "id": "302d6163",
   "metadata": {},
   "source": []
  },
  {
   "cell_type": "markdown",
   "id": "8421b2a6",
   "metadata": {},
   "source": [
    "GradientBoosting Classifier"
   ]
  },
  {
   "cell_type": "code",
   "execution_count": 78,
   "id": "ef8b3b5e",
   "metadata": {},
   "outputs": [],
   "source": [
    "from sklearn.ensemble import GradientBoostingClassifier\n",
    "Gbc = GradientBoostingClassifier(random_state = 1)\n",
    "Gbc.fit(x_balanced,y_balanced)\n",
    "Gbc_preds = Gbc.predict(x_test)"
   ]
  },
  {
   "cell_type": "code",
   "execution_count": 79,
   "id": "6b0bcf75",
   "metadata": {},
   "outputs": [
    {
     "name": "stdout",
     "output_type": "stream",
     "text": [
      "              precision    recall  f1-score   support\n",
      "\n",
      "           0       0.87      0.92      0.89       724\n",
      "           1       0.95      0.92      0.94      1276\n",
      "\n",
      "    accuracy                           0.92      2000\n",
      "   macro avg       0.91      0.92      0.91      2000\n",
      "weighted avg       0.92      0.92      0.92      2000\n",
      "\n",
      "Traning Score: 0.9493534482758621\n",
      "Testing Score: 0.9195\n",
      "Accuracy score: 0.9195\n"
     ]
    }
   ],
   "source": [
    "print(classification_report(y_test,Gbc_preds))\n",
    "\n",
    "print(f'Traning Score:',Gbc.score(x_balanced,y_balanced))\n",
    "print(f'Testing Score:',Gbc.score(x_test,y_test))\n",
    "print(f'Accuracy score:',accuracy_score(y_test,Gbc_preds))"
   ]
  },
  {
   "cell_type": "markdown",
   "id": "a0c4606c",
   "metadata": {},
   "source": [
    "Lightgbm  Classifier "
   ]
  },
  {
   "cell_type": "code",
   "execution_count": 80,
   "id": "75708d5f",
   "metadata": {},
   "outputs": [],
   "source": [
    "from lightgbm import LGBMClassifier\n",
    "Lgbm = LGBMClassifier(random_state = 1)\n",
    "Lgbm.fit(x_balanced,y_balanced)\n",
    "Lgbm_preds = Lgbm.predict(x_test)"
   ]
  },
  {
   "cell_type": "code",
   "execution_count": 81,
   "id": "f63f7175",
   "metadata": {},
   "outputs": [
    {
     "name": "stdout",
     "output_type": "stream",
     "text": [
      "              precision    recall  f1-score   support\n",
      "\n",
      "           0       0.91      0.93      0.92       724\n",
      "           1       0.96      0.95      0.96      1276\n",
      "\n",
      "    accuracy                           0.94      2000\n",
      "   macro avg       0.94      0.94      0.94      2000\n",
      "weighted avg       0.94      0.94      0.94      2000\n",
      "\n",
      "Traning Score: 0.9958855799373041\n",
      "Testing Score: 0.943\n",
      "Accuracy score: 0.943\n"
     ]
    }
   ],
   "source": [
    "print(classification_report(y_test,Lgbm_preds))\n",
    "\n",
    "print(f'Traning Score:',Lgbm.score(x_balanced,y_balanced))\n",
    "print(f'Testing Score:',Lgbm.score(x_test,y_test))\n",
    "print(f'Accuracy score:',accuracy_score(y_test,Lgbm_preds))"
   ]
  },
  {
   "cell_type": "markdown",
   "id": "fa7f9673",
   "metadata": {},
   "source": [
    "XGB Classifier"
   ]
  },
  {
   "cell_type": "code",
   "execution_count": 83,
   "id": "3f52cae1",
   "metadata": {},
   "outputs": [
    {
     "name": "stderr",
     "output_type": "stream",
     "text": [
      "C:\\Users\\User\\anaconda3\\lib\\site-packages\\xgboost\\compat.py:36: FutureWarning: pandas.Int64Index is deprecated and will be removed from pandas in a future version. Use pandas.Index with the appropriate dtype instead.\n",
      "  from pandas import MultiIndex, Int64Index\n"
     ]
    },
    {
     "name": "stdout",
     "output_type": "stream",
     "text": [
      "[15:50:32] WARNING: C:\\Windows\\Temp\\abs_557yfx631l\\croots\\recipe\\xgboost-split_1659548953302\\work\\src\\learner.cc:1115: Starting in XGBoost 1.3.0, the default evaluation metric used with the objective 'binary:logistic' was changed from 'error' to 'logloss'. Explicitly set eval_metric if you'd like to restore the old behavior.\n"
     ]
    }
   ],
   "source": [
    "from xgboost import XGBClassifier \n",
    "XGB = XGBClassifier(use_label_encoder=False,random_state = 1)\n",
    "XGB.fit(x_balanced,y_balanced)\n",
    "XGB_preds = XGB.predict(x_test)"
   ]
  },
  {
   "cell_type": "code",
   "execution_count": 84,
   "id": "2c14d4d6",
   "metadata": {},
   "outputs": [
    {
     "name": "stdout",
     "output_type": "stream",
     "text": [
      "              precision    recall  f1-score   support\n",
      "\n",
      "           0       0.93      0.94      0.94       724\n",
      "           1       0.97      0.96      0.96      1276\n",
      "\n",
      "    accuracy                           0.95      2000\n",
      "   macro avg       0.95      0.95      0.95      2000\n",
      "weighted avg       0.95      0.95      0.95      2000\n",
      "\n",
      "Traning Score: 1.0\n",
      "Testing Score: 0.9535\n",
      "Accuracy score: 0.9535\n"
     ]
    }
   ],
   "source": [
    "print(classification_report(y_test,XGB_preds))\n",
    "\n",
    "print(f'Traning Score:',XGB.score(x_balanced,y_balanced))\n",
    "print(f'Testing Score:',XGB.score(x_test,y_test))\n",
    "print(f'Accuracy score:',accuracy_score(y_test,XGB_preds))"
   ]
  },
  {
   "cell_type": "markdown",
   "id": "c7270475",
   "metadata": {},
   "source": [
    " "
   ]
  },
  {
   "cell_type": "code",
   "execution_count": null,
   "id": "e7bea8df",
   "metadata": {},
   "outputs": [],
   "source": []
  },
  {
   "cell_type": "code",
   "execution_count": null,
   "id": "52c853c3",
   "metadata": {},
   "outputs": [],
   "source": []
  },
  {
   "cell_type": "code",
   "execution_count": null,
   "id": "df748bd2",
   "metadata": {},
   "outputs": [],
   "source": []
  },
  {
   "cell_type": "code",
   "execution_count": null,
   "id": "54ad3af9",
   "metadata": {},
   "outputs": [],
   "source": []
  },
  {
   "cell_type": "code",
   "execution_count": null,
   "id": "fd9a3906",
   "metadata": {},
   "outputs": [],
   "source": []
  }
 ],
 "metadata": {
  "kernelspec": {
   "display_name": "Python 3 (ipykernel)",
   "language": "python",
   "name": "python3"
  },
  "language_info": {
   "codemirror_mode": {
    "name": "ipython",
    "version": 3
   },
   "file_extension": ".py",
   "mimetype": "text/x-python",
   "name": "python",
   "nbconvert_exporter": "python",
   "pygments_lexer": "ipython3",
   "version": "3.9.12"
  },
  "vscode": {
   "interpreter": {
    "hash": "f08154012ddadd8e950e6e9e035c7a7b32c136e7647e9b7c77e02eb723a8bedb"
   }
  }
 },
 "nbformat": 4,
 "nbformat_minor": 5
}
